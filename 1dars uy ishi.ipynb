{
 "cells": [
  {
   "cell_type": "code",
   "execution_count": 6,
   "id": "c30258ba",
   "metadata": {
    "scrolled": true
   },
   "outputs": [
    {
     "name": "stdout",
     "output_type": "stream",
     "text": [
      " a= 78\n",
      " b= 55\n"
     ]
    },
    {
     "data": {
      "text/plain": [
       "1.4181818181818182"
      ]
     },
     "execution_count": 6,
     "metadata": {},
     "output_type": "execute_result"
    }
   ],
   "source": [
    "a= int(float(input(' a= ')))\n",
    "b= int(float(input(' b= ')))\n",
    "a/b"
   ]
  },
  {
   "cell_type": "code",
   "execution_count": null,
   "id": "766a5410",
   "metadata": {},
   "outputs": [],
   "source": []
  },
  {
   "cell_type": "code",
   "execution_count": null,
   "id": "e418bc42",
   "metadata": {},
   "outputs": [],
   "source": [
    "a= int(input('a='))\n",
    "b= int(input('b='))\n",
    "c= int(input('c='))\n",
    "d= int(input('d='))\n",
    "P= a+b+c+d\n",
    "print('togri tortburchak perimetri',P, 'sm')"
   ]
  },
  {
   "cell_type": "code",
   "execution_count": null,
   "id": "ac66c938",
   "metadata": {
    "scrolled": true
   },
   "outputs": [],
   "source": [
    "a= int(input('a='))\n",
    "b= int(input('b='))\n",
    "print('kopaytmasi=',a*b, 'yigindisi=',a+b)"
   ]
  },
  {
   "cell_type": "code",
   "execution_count": 13,
   "id": "346fbe5b",
   "metadata": {},
   "outputs": [
    {
     "name": "stdout",
     "output_type": "stream",
     "text": [
      "a=5\n",
      "Kvadratning perimetri= 20\n"
     ]
    }
   ],
   "source": [
    "#begin1 \n",
    "\n",
    "a= int(input('a='))\n",
    "print('Kvadratning perimetri=',4*a)"
   ]
  },
  {
   "cell_type": "code",
   "execution_count": 15,
   "id": "a048acce",
   "metadata": {},
   "outputs": [
    {
     "name": "stdout",
     "output_type": "stream",
     "text": [
      "a=8\n",
      "Kvadratning yuzasi= 64\n"
     ]
    }
   ],
   "source": [
    "#begin2\n",
    "a=int(input('a='))\n",
    "print('Kvadratning yuzasi=',a**2)"
   ]
  },
  {
   "cell_type": "code",
   "execution_count": 16,
   "id": "cc652d21",
   "metadata": {},
   "outputs": [
    {
     "name": "stdout",
     "output_type": "stream",
     "text": [
      "a=5\n",
      "b=6\n",
      "To'gri to'rtburchak yuzasi= 30 To'gri to'rtburchak perimetri= 22\n"
     ]
    }
   ],
   "source": [
    "#begin3\n",
    "a=int(input('a='))\n",
    "b=int(input('b='))\n",
    "print(\"To'gri to'rtburchak yuzasi=\", a*b, \"To'gri to'rtburchak perimetri=\", 2*(a+b))"
   ]
  },
  {
   "cell_type": "code",
   "execution_count": 56,
   "id": "6d0fa517",
   "metadata": {
    "scrolled": true
   },
   "outputs": [
    {
     "name": "stdout",
     "output_type": "stream",
     "text": [
      "aylana diametri=30\n",
      "Aylana uzunligi= 94.2\n"
     ]
    }
   ],
   "source": [
    "#begin4\n",
    "d= int(input('aylana diametri='))\n",
    "Pi=3.14\n",
    "print('Aylana uzunligi=', Pi*d)"
   ]
  },
  {
   "cell_type": "code",
   "execution_count": 18,
   "id": "875ff4a5",
   "metadata": {},
   "outputs": [
    {
     "name": "stdout",
     "output_type": "stream",
     "text": [
      "a=5\n",
      "Kubning hajmi= 125 Kubning tola sirti= 150\n"
     ]
    }
   ],
   "source": [
    "#begin5\n",
    "a=int(input('a='))\n",
    "print('Kubning hajmi=', a**3, 'Kubning tola sirti=', 6*(a**2))"
   ]
  },
  {
   "cell_type": "code",
   "execution_count": 19,
   "id": "f10a07f7",
   "metadata": {},
   "outputs": [
    {
     "name": "stdout",
     "output_type": "stream",
     "text": [
      "a=4\n",
      "b=5\n",
      "c=6\n",
      "Parallelopipedning hajmi= 120 Parallelopipedning tola sirti= 148\n"
     ]
    }
   ],
   "source": [
    "#begin6\n",
    "a=int(input('a='))\n",
    "b=int(input('b='))\n",
    "c=int(input('c='))\n",
    "print('Parallelopipedning hajmi=', a*b*c, 'Parallelopipedning tola sirti=', 2*(a*b+b*c+a*c))"
   ]
  },
  {
   "cell_type": "code",
   "execution_count": 22,
   "id": "3134d744",
   "metadata": {},
   "outputs": [
    {
     "name": "stdout",
     "output_type": "stream",
     "text": [
      "R=5\n",
      "Doira uzunligi= 31.400000000000002 Doira yuzasi= 78.5\n"
     ]
    }
   ],
   "source": [
    "#begin7\n",
    "\n",
    "R=int(input('R='))\n",
    "Pi=3.14\n",
    "print('Doira uzunligi=', 2*Pi*R, 'Doira yuzasi=', Pi*(R**2))"
   ]
  },
  {
   "cell_type": "code",
   "execution_count": 23,
   "id": "8d934484",
   "metadata": {},
   "outputs": [
    {
     "name": "stdout",
     "output_type": "stream",
     "text": [
      "a=5\n",
      "b=6\n",
      "a va b sonlarining orta arifmetigi= 5.5\n"
     ]
    }
   ],
   "source": [
    "#begin8\n",
    "a=int(input('a='))\n",
    "b=int(input('b='))\n",
    "print('a va b sonlarining orta arifmetigi=', (a+b)/2)"
   ]
  },
  {
   "cell_type": "code",
   "execution_count": 14,
   "id": "ac18a726",
   "metadata": {},
   "outputs": [
    {
     "name": "stdout",
     "output_type": "stream",
     "text": [
      "a=16\n",
      "b=36\n",
      "orta geometrik= 24.0\n"
     ]
    }
   ],
   "source": [
    "#9\n",
    "a=int(float(input('a=')))\n",
    "b=int(float(input('b=')))\n",
    "a>0\n",
    "b>0\n",
    "print('orta geometrik=',(a**(1/2))*(b**(1/2)))\n"
   ]
  },
  {
   "cell_type": "code",
   "execution_count": 17,
   "id": "e37f8036",
   "metadata": {},
   "outputs": [
    {
     "name": "stdout",
     "output_type": "stream",
     "text": [
      "birinchi son=6\n",
      "ikkinchi son=8\n",
      "ikki son yigindisi= 14\n",
      "ikki son kopaytmasi= 48\n",
      "birinchi son kvadrati 36\n",
      "ikkinchi son kvadrati 64\n"
     ]
    }
   ],
   "source": [
    "#10\n",
    "a=int(input('birinchi son='))\n",
    "b=int(input('ikkinchi son='))\n",
    "amal1=a+b \n",
    "amal2=a*b\n",
    "amal3=a**2\n",
    "amal4=b**2\n",
    "print('ikki son yigindisi=', amal1)\n",
    "print('ikki son kopaytmasi=',amal2)\n",
    "print('birinchi son kvadrati',amal3)\n",
    "print('ikkinchi son kvadrati', amal4)"
   ]
  },
  {
   "cell_type": "code",
   "execution_count": 32,
   "id": "334b4e43",
   "metadata": {},
   "outputs": [
    {
     "name": "stdout",
     "output_type": "stream",
     "text": [
      "birinchi son=-8\n",
      "ikkinchi son=4\n",
      "ikki son yigindisi= -4 ikki son kopaymasi= -32\n",
      "birinchi son moduli= 8 ikkinchi son moduli= 4\n"
     ]
    }
   ],
   "source": [
    "#11\n",
    "a=int(input('birinchi son='))\n",
    "b=int(input('ikkinchi son='))\n",
    "modul1=abs(a)\n",
    "modul2=abs(b)\n",
    "print('ikki son yigindisi=', a+b, 'ikki son kopaymasi=', a*b)\n",
    "print('birinchi son moduli=',modul1,'ikkinchi son moduli=', modul2)\n"
   ]
  },
  {
   "cell_type": "code",
   "execution_count": 49,
   "id": "e6f02e3c",
   "metadata": {},
   "outputs": [
    {
     "name": "stdout",
     "output_type": "stream",
     "text": [
      "katet a=9\n",
      "katet b=16\n",
      "gipotenuza= 7.0 togri uch burchak perimetri= 32.0\n"
     ]
    }
   ],
   "source": [
    "#12\n",
    "a=int(input('katet a='))\n",
    "b=int(input('katet b='))\n",
    "c= a**0.5+b**0.5\n",
    "P= a+b+c\n",
    "print('gipotenuza=',c, 'togri uch burchak perimetri=', P)"
   ]
  },
  {
   "cell_type": "code",
   "execution_count": 66,
   "id": "68e43937",
   "metadata": {},
   "outputs": [
    {
     "name": "stdout",
     "output_type": "stream",
     "text": [
      "birinchi aylana radiusi=10\n",
      "ikkinchi aylana radiusi=5\n",
      "birinchi aylana yuzasi= 31.400000000000002 ikkinchi aylana yuzasi= 15.700000000000001\n",
      "ikki aylana yuzasi ayirmasi= 15.700000000000001\n"
     ]
    }
   ],
   "source": [
    "#13\n",
    "R1=int(input('birinchi aylana radiusi='))\n",
    "R2=int(input('ikkinchi aylana radiusi='))\n",
    "R1>R2\n",
    "Pi=3.14\n",
    "S1=Pi*R1\n",
    "S2=Pi*R2\n",
    "S3=Pi*(R1-R2)\n",
    "print('birinchi aylana yuzasi=',S1, 'ikkinchi aylana yuzasi=',S2)\n",
    "print('ikki aylana yuzasi ayirmasi=',S3)"
   ]
  },
  {
   "cell_type": "code",
   "execution_count": 58,
   "id": "a6b38e90",
   "metadata": {},
   "outputs": [
    {
     "name": "stdout",
     "output_type": "stream",
     "text": [
      "aylana uzunligi=94.2\n",
      "aylana radiusi= 14.968152866242038 aylana yuzasi= 703.5031847133758\n"
     ]
    }
   ],
   "source": [
    "#14\n",
    "L=int(float(input('aylana uzunligi=')))\n",
    "Pi=3.14\n",
    "D=L/Pi\n",
    "R=D/2\n",
    "S=Pi*R**2\n",
    "print('aylana radiusi=',R, 'aylana yuzasi=',S)"
   ]
  },
  {
   "cell_type": "code",
   "execution_count": 68,
   "id": "e1c72474",
   "metadata": {},
   "outputs": [
    {
     "name": "stdout",
     "output_type": "stream",
     "text": [
      "Aylana yuzasi=50\n",
      "Aylana diametri= 7.9808688446762215 Aylana radiusi= 3.9904344223381107\n"
     ]
    }
   ],
   "source": [
    "#15\n",
    "S=int(input('Aylana yuzasi='))\n",
    "Pi=3.14\n",
    "R=(S/Pi)**(1/2)\n",
    "D=R*2\n",
    "print('Aylana diametri=',D, 'Aylana radiusi=',R)\n"
   ]
  },
  {
   "cell_type": "code",
   "execution_count": 69,
   "id": "ea7ca284",
   "metadata": {},
   "outputs": [
    {
     "name": "stdout",
     "output_type": "stream",
     "text": [
      "birinch nuqta=5\n",
      "ikkinchi nuqta=18\n",
      "ikki nuqta orasidagi masofa= 13\n"
     ]
    }
   ],
   "source": [
    "#16\n",
    "X1=int(input('birinch nuqta='))\n",
    "X2=int(input('ikkinchi nuqta='))\n",
    "L=X2-X1\n",
    "print('ikki nuqta orasidagi masofa=',L)\n"
   ]
  },
  {
   "cell_type": "code",
   "execution_count": 70,
   "id": "d5e89b66",
   "metadata": {},
   "outputs": [
    {
     "name": "stdout",
     "output_type": "stream",
     "text": [
      "A nuqta=5\n",
      "B nuqta=9\n",
      "C nuqta=12\n",
      "AC kesma uzunligi= 7 BC kesma uzunlugi= 3\n",
      "kemalar yigindisi= 10\n"
     ]
    }
   ],
   "source": [
    "#17\n",
    "A=int(input('A nuqta='))\n",
    "B=int(input('B nuqta='))\n",
    "C=int(input('C nuqta='))\n",
    "AC=C-A\n",
    "BC=C-B\n",
    "L=AC+BC\n",
    "print('AC kesma uzunligi=',AC, 'BC kesma uzunlugi=',BC)\n",
    "print('kemalar yigindisi=',L)"
   ]
  },
  {
   "cell_type": "code",
   "execution_count": null,
   "id": "ccfedcc6",
   "metadata": {},
   "outputs": [],
   "source": [
    "#18\n",
    "A=int(input('A nuqta='))\n",
    "C=int(input('C nuqta='))\n",
    "B=int(input('B nuqta='))\n",
    "AC=C-A\n",
    "BC=B-C\n",
    "L=AC*BC\n",
    "print('AC kesma uzunligi=',AC, 'BC kesma uzunligi=',BC, 'AC va BC kesmalar uzunligi kopaytmasi=',L )"
   ]
  },
  {
   "cell_type": "code",
   "execution_count": null,
   "id": "23f5d7a3",
   "metadata": {},
   "outputs": [],
   "source": [
    "#19\n",
    "x1=int(input('x1 nuqta='))\n",
    "y1=int(input('y1 nuqta='))\n",
    "x2=int(input('x2 nuqta='))\n",
    "y2=int(input('y2 nuqta='))\n",
    "AB=y2-y1\n",
    "AC=x2-x1\n",
    "BD=AC\n",
    "CD=AB\n",
    "print(AB*AC)\n",
    "print(AB+AC+BD+CD)"
   ]
  },
  {
   "cell_type": "code",
   "execution_count": 92,
   "id": "cfeea54d",
   "metadata": {},
   "outputs": [
    {
     "name": "stdout",
     "output_type": "stream",
     "text": [
      "x1 nuqta=2\n",
      "y1 nuqta=6\n",
      "x2 nuqta=8\n",
      "y2 nuqta=6\n",
      "masofa= 6.0\n"
     ]
    }
   ],
   "source": [
    "#20\n",
    "x1=int(input('x1 nuqta='))\n",
    "y1=int(input('y1 nuqta='))\n",
    "x2=int(input('x2 nuqta='))\n",
    "y2=int(input('y2 nuqta='))\n",
    "L=((x2-x1)**2+(y2-y1)**2)**(1/2)\n",
    "print('masofa=',L)\n"
   ]
  },
  {
   "cell_type": "code",
   "execution_count": 13,
   "id": "08d2db6f",
   "metadata": {},
   "outputs": [
    {
     "name": "stdout",
     "output_type": "stream",
     "text": [
      "x1:2\n",
      "y1:2\n",
      "x2:2\n",
      "y2:9\n",
      "x3:9\n",
      "y3:2\n",
      "ucburchak yuzasi= 24.50000000000001 perimetri= 23.899494936611667\n"
     ]
    }
   ],
   "source": [
    "#21 \n",
    "\n",
    "from math import sqrt\n",
    "x1=int(input('x1:'))\n",
    "y1=int(input('y1:'))\n",
    "x2=int(input('x2:'))\n",
    "y2=int(input('y2:'))\n",
    "x3=int(input('x3:'))\n",
    "y3=int(input('y3:'))\n",
    "a=sqrt((x2-x1)**2+(y2-y1)**2)\n",
    "b=sqrt((x3-x1)**2+(y3-y1)**2)\n",
    "c=sqrt((x2-x3)**2+(y2-y3)**2)\n",
    "P=a+b+c\n",
    "p=P/2\n",
    "S=sqrt(p*(p-a)*(p-b)*(p-c))\n",
    "print('ucburchak yuzasi=',S, 'perimetri=',P)"
   ]
  },
  {
   "cell_type": "code",
   "execution_count": 16,
   "id": "749a9da4",
   "metadata": {},
   "outputs": [
    {
     "name": "stdout",
     "output_type": "stream",
     "text": [
      "A=8\n",
      "B=9\n",
      "A= 9 B= 8\n"
     ]
    }
   ],
   "source": [
    "#22\n",
    "\n",
    "A=int(input('A='))\n",
    "B=int(input('B='))\n",
    "A=A+B\n",
    "B=A-B\n",
    "A=A-B\n",
    "print('A=',A, 'B=', B)"
   ]
  },
  {
   "cell_type": "code",
   "execution_count": 17,
   "id": "87891f1d",
   "metadata": {},
   "outputs": [
    {
     "name": "stdout",
     "output_type": "stream",
     "text": [
      "A=1\n",
      "B=2\n",
      "C=3\n",
      "A= 3 B= 1 C= 2\n"
     ]
    }
   ],
   "source": [
    "#23\n",
    "A=int(input('A='))\n",
    "B=int(input('B='))\n",
    "C=int(input('C='))\n",
    "A=A+B+C\n",
    "B=A-B-C\n",
    "C=A-B-C\n",
    "A=A-B-C\n",
    "print('A=', A , 'B=', B , 'C=',C)"
   ]
  },
  {
   "cell_type": "code",
   "execution_count": 21,
   "id": "a033fa34",
   "metadata": {},
   "outputs": [
    {
     "name": "stdout",
     "output_type": "stream",
     "text": [
      "C=1\n",
      "B=2\n",
      "A=3\n",
      "A= 2 B= 1 C= 3\n"
     ]
    }
   ],
   "source": [
    "#24\n",
    "\n",
    "C=int(input('C='))\n",
    "B=int(input('B='))\n",
    "A=int(input('A='))\n",
    "C=C+B+A\n",
    "B=C-B-A\n",
    "A=C-B-A\n",
    "C=C-B-A\n",
    "print('A=',A, 'B=',B, 'C=', C )\n",
    "\n"
   ]
  },
  {
   "cell_type": "code",
   "execution_count": 26,
   "id": "8f5f471c",
   "metadata": {},
   "outputs": [
    {
     "name": "stdout",
     "output_type": "stream",
     "text": [
      "x ning qiymatini kiriting:2\n",
      "tenglama echimi: y= 161\n"
     ]
    }
   ],
   "source": [
    "#25\n",
    "x=int(input('x ning qiymatini kiriting:'))\n",
    "y=3*(x**6)-6*(x**2)-7\n",
    "print('tenglama echimi: y=',y)\n"
   ]
  },
  {
   "cell_type": "code",
   "execution_count": 30,
   "id": "d4591736",
   "metadata": {},
   "outputs": [
    {
     "name": "stdout",
     "output_type": "stream",
     "text": [
      "x ning qiymatini kiriting:5\n",
      "tenglama echimi: y= 202\n"
     ]
    }
   ],
   "source": [
    "#26\n",
    "x=int(input('x ning qiymatini kiriting:'))\n",
    "y=(4*(x-3)**6)-(7*(x-3)**3)+2\n",
    "print('tenglama echimi: y=',y)"
   ]
  },
  {
   "cell_type": "code",
   "execution_count": 33,
   "id": "0c8caefa",
   "metadata": {},
   "outputs": [
    {
     "name": "stdout",
     "output_type": "stream",
     "text": [
      "A sonini kiriting:2\n",
      "A ninig kvadrati= 4 A ning 4-chi darajasi= 16 A ning 8-darajasi= 256\n"
     ]
    }
   ],
   "source": [
    "#27\n",
    "\n",
    "A=int(input('A sonini kiriting:'))\n",
    "A2=A**2\n",
    "A4=A**4\n",
    "A8=A**8\n",
    "print('A ninig kvadrati=',A2, 'A ning 4-chi darajasi=',A4, 'A ning 8-darajasi=',A8)\n"
   ]
  },
  {
   "cell_type": "code",
   "execution_count": 35,
   "id": "c87e6bf5",
   "metadata": {},
   "outputs": [
    {
     "name": "stdout",
     "output_type": "stream",
     "text": [
      "A sonini kiriting:2\n",
      "A2= 4 A3= 8 A5= 32 A10= 1024 A15= 32768\n"
     ]
    }
   ],
   "source": [
    "#28\n",
    "\n",
    "A=int(input('A sonini kiriting:'))\n",
    "A2,A3,A5,A10,A15=A**2,A**3,A**5,A**10,A**15\n",
    "print('A2=',A2,'A3=',A3,'A5=',A5,'A10=',A10,'A15=',A15)"
   ]
  },
  {
   "cell_type": "code",
   "execution_count": 37,
   "id": "788d803e",
   "metadata": {},
   "outputs": [
    {
     "name": "stdout",
     "output_type": "stream",
     "text": [
      "burchak=60\n",
      "radian= 1.0466666666666666\n"
     ]
    }
   ],
   "source": [
    "#29\n",
    "a=int(input('burchak='))\n",
    "pi=3.14\n",
    "radian=a/180*pi\n",
    "print('radian=',radian)\n"
   ]
  },
  {
   "cell_type": "code",
   "execution_count": 44,
   "id": "391ee1d0",
   "metadata": {},
   "outputs": [
    {
     "name": "stdout",
     "output_type": "stream",
     "text": [
      "radian=1.0466666666666666\n",
      "gradus= 60.0\n"
     ]
    }
   ],
   "source": [
    "#30\n",
    "a=float(input('radian='))\n",
    "pi=3.14\n",
    "gradus=a*180/pi\n",
    "print('gradus=',gradus)"
   ]
  },
  {
   "cell_type": "code",
   "execution_count": 45,
   "id": "43323e8c",
   "metadata": {},
   "outputs": [
    {
     "name": "stdout",
     "output_type": "stream",
     "text": [
      "farengeyt:45\n",
      "selsiy: 7.222222222222222\n"
     ]
    }
   ],
   "source": [
    "#31\n",
    "Tf=int(input('farengeyt:'))\n",
    "Tc=(Tf-32)*5/9\n",
    "print('selsiy:',Tc)"
   ]
  },
  {
   "cell_type": "code",
   "execution_count": 52,
   "id": "4f7f2014",
   "metadata": {},
   "outputs": [
    {
     "name": "stdout",
     "output_type": "stream",
     "text": [
      "selsiy:7.222222222222222\n",
      "farengeyt: 45.0\n"
     ]
    }
   ],
   "source": [
    "#32\n",
    "Tc=float(input('selsiy:'))\n",
    "Tf=(Tc*9/5)+32\n",
    "print('farengeyt:',Tf)"
   ]
  },
  {
   "cell_type": "code",
   "execution_count": 50,
   "id": "458546bd",
   "metadata": {},
   "outputs": [
    {
     "name": "stdout",
     "output_type": "stream",
     "text": [
      "kg=5\n",
      "narx sum=6\n",
      "Y kg ni kiriting:3\n",
      "konfet narxi= 30 summa= 90\n"
     ]
    }
   ],
   "source": [
    "#33\n",
    "X=int(input('kg='))\n",
    "A=int(input('narx sum='))\n",
    "Y=int(input('Y kg ni kiriting:' ))\n",
    "narx=X*A\n",
    "Y=Y*narx\n",
    "summa=Y\n",
    "print('konfet narxi=',narx,'summa=', summa)\n",
    "\n"
   ]
  },
  {
   "cell_type": "code",
   "execution_count": 59,
   "id": "2d88406c",
   "metadata": {},
   "outputs": [
    {
     "name": "stdout",
     "output_type": "stream",
     "text": [
      "shokolad kilosi=1\n",
      "shokolad narxi=30\n",
      "konfet kilosi=1\n",
      "konfet narxi=20\n",
      "shokolad kilosini kirit:50\n",
      "konfet kilosini kirit:20\n",
      "shokolad konfetdan qancha qimmat: 10\n"
     ]
    }
   ],
   "source": [
    "#34\n",
    "\n",
    "X=int(input('shokolad kilosi='))\n",
    "A=int(input('shokolad narxi='))\n",
    "Y=int(input('konfet kilosi='))\n",
    "B=int(input('konfet narxi='))\n",
    "SH=int(input('shokolad kilosini kirit:'))\n",
    "K=int(input('konfet kilosini kirit:'))\n",
    "narx1=X*A\n",
    "narx2=Y*B\n",
    "SH=SH*narx1\n",
    "K=K*narx2\n",
    "qimmat=narx1-narx2\n",
    "print('shokolad konfetdan qancha qimmat:',qimmat)\n"
   ]
  },
  {
   "cell_type": "code",
   "execution_count": 17,
   "id": "a17ea1bd",
   "metadata": {},
   "outputs": [
    {
     "name": "stdout",
     "output_type": "stream",
     "text": [
      "Qayiq tezligi(V>U):50\n",
      "Daryo oqimi tezligi:20\n",
      "Oqim boyicha vaqt:5\n",
      "Oqimga qarshi vaqt:6\n",
      "Daryo oqimi boylab: 350 Daryo oqimiga qarshi: 180\n"
     ]
    }
   ],
   "source": [
    "#35\n",
    "V=int(input('Qayiq tezligi(V>U):'))\n",
    "U=int(input('Daryo oqimi tezligi:'))\n",
    "T1=int(input('Oqim boyicha vaqt:'))\n",
    "T2=int(input('Oqimga qarshi vaqt:'))\n",
    "S=T1*(V+U)\n",
    "S1=T2*(V-U)\n",
    "print('Daryo oqimi boylab:', S, 'Daryo oqimiga qarshi:', S1)"
   ]
  },
  {
   "cell_type": "code",
   "execution_count": 20,
   "id": "c4638ae3",
   "metadata": {},
   "outputs": [
    {
     "name": "stdout",
     "output_type": "stream",
     "text": [
      "birinchi mashina tezligi = 50\n",
      "ikkinchi mashina tezligi = 40\n",
      "ikki mashina orasidagi masofa=10\n",
      "o`tgan vaqt = 2\n",
      "malum vaqt otgandan keyingi masofa= 190.0\n"
     ]
    }
   ],
   "source": [
    "#36\n",
    "v1 = float(input('birinchi mashina tezligi = '))\n",
    "v2 = float(input('ikkinchi mashina tezligi = '))\n",
    "S = float(input('ikki mashina orasidagi masofa='))\n",
    "t = int(input('o`tgan vaqt = '))\n",
    "S2 = S + (v1+v2) * t\n",
    "print('malum vaqt otgandan keyingi masofa=', S2)"
   ]
  },
  {
   "cell_type": "code",
   "execution_count": 22,
   "id": "1101a523",
   "metadata": {},
   "outputs": [
    {
     "name": "stdout",
     "output_type": "stream",
     "text": [
      "birinchi mashina tezligi:50\n",
      "ikkinchi mashina tezligi:60\n",
      "ikki mashina otasidagi masofa:200\n",
      "o'tgan vaqt:1\n",
      "malum vaqt otgandan keyingi masofa= 90\n"
     ]
    }
   ],
   "source": [
    "#37\n",
    "V1=int(input('birinchi mashina tezligi:'))\n",
    "V2=int(input('ikkinchi mashina tezligi:'))\n",
    "S=int(input('ikki mashina otasidagi masofa:'))\n",
    "T=int(input(\"o'tgan vaqt:\"))\n",
    "S2=S-(V1+V2)*T\n",
    "print('malum vaqt otgandan keyingi masofa=',S2)"
   ]
  },
  {
   "cell_type": "code",
   "execution_count": 26,
   "id": "f749ed0d",
   "metadata": {},
   "outputs": [
    {
     "name": "stdout",
     "output_type": "stream",
     "text": [
      "A=10\n",
      "B=20\n",
      "-2.0\n"
     ]
    }
   ],
   "source": [
    "#38\n",
    "A=int(input('A='))\n",
    "B=int(input('B='))\n",
    "# A*x+B=0\n",
    "A==0\n",
    "x=-B/A\n",
    "print(x)"
   ]
  },
  {
   "cell_type": "code",
   "execution_count": null,
   "id": "5cd93d40",
   "metadata": {
    "scrolled": true
   },
   "outputs": [],
   "source": [
    "#39\n",
    "\n",
    "A=int(input('A='))\n",
    "B=int(input('B='))\n",
    "C=int(input('C='))\n",
    "# (A*x**2)+(B*x)+C=0\n",
    "D=B**2-4*A*C\n",
    "x1=(-B+(D**0.5))/ (2*A)\n",
    "x2=(-B-(D**0.5))/ (2*A)\n",
    "print('x1=', x1, 'x2=',x2)"
   ]
  },
  {
   "cell_type": "code",
   "execution_count": 2,
   "id": "467839a3",
   "metadata": {},
   "outputs": [
    {
     "name": "stdout",
     "output_type": "stream",
     "text": [
      "A1=5\n",
      "A2=6\n",
      "B1=4\n",
      "B2=8\n",
      "C1=4\n",
      "C2=8\n",
      "x= 0.0 y= 1.0\n"
     ]
    }
   ],
   "source": [
    "#40\n",
    "A1=int(input('A1='))\n",
    "A2=int(input('A2='))\n",
    "B1=int(input('B1='))\n",
    "B2=int(input('B2='))\n",
    "C1=int(input('C1='))\n",
    "C2=int(input('C2='))\n",
    "D=(A1*B2-A2*B1)\n",
    "x=(C1*B2-C2*B1)/D\n",
    "y=(A1*C2-A2*C1)/D\n",
    "print('x=',x,'y=',y)"
   ]
  }
 ],
 "metadata": {
  "kernelspec": {
   "display_name": "Python 3 (ipykernel)",
   "language": "python",
   "name": "python3"
  },
  "language_info": {
   "codemirror_mode": {
    "name": "ipython",
    "version": 3
   },
   "file_extension": ".py",
   "mimetype": "text/x-python",
   "name": "python",
   "nbconvert_exporter": "python",
   "pygments_lexer": "ipython3",
   "version": "3.9.8"
  }
 },
 "nbformat": 4,
 "nbformat_minor": 5
}
