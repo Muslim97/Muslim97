{
 "cells": [
  {
   "cell_type": "code",
   "execution_count": 2,
   "id": "2c6d5864",
   "metadata": {},
   "outputs": [
    {
     "name": "stdout",
     "output_type": "stream",
     "text": [
      "santimetrni kiriting:15456\n",
      "metr: 154\n"
     ]
    }
   ],
   "source": [
    "#1\n",
    "L=int(input('santimetrni kiriting:'))\n",
    "M=L//100\n",
    "print('metr:',M)"
   ]
  },
  {
   "cell_type": "code",
   "execution_count": 6,
   "id": "146858d4",
   "metadata": {},
   "outputs": [
    {
     "name": "stdout",
     "output_type": "stream",
     "text": [
      "kilogramni kiriting:55456\n",
      "tonna: 55\n"
     ]
    }
   ],
   "source": [
    "#2\n",
    "M=int(input('kilogramni kiriting:'))\n",
    "T=M//1000\n",
    "print('tonna:',T)"
   ]
  },
  {
   "cell_type": "code",
   "execution_count": 10,
   "id": "beed16d0",
   "metadata": {},
   "outputs": [
    {
     "name": "stdout",
     "output_type": "stream",
     "text": [
      "Baytni kiriting:2048\n",
      "kilobayt= 2\n"
     ]
    }
   ],
   "source": [
    "#3\n",
    "Byte=int(input('Baytni kiriting:'))\n",
    "Kb=Byte//1024\n",
    "print('kilobayt=',Kb)"
   ]
  },
  {
   "cell_type": "code",
   "execution_count": 14,
   "id": "f980ccee",
   "metadata": {},
   "outputs": [
    {
     "name": "stdout",
     "output_type": "stream",
     "text": [
      "A kesmani kiriting:10\n",
      "B kesmani kiriting:5\n",
      "A kesmada B kesma:, 2\n"
     ]
    }
   ],
   "source": [
    "#4\n",
    "A=int(input('A kesmani kiriting:'))\n",
    "B=int(input('B kesmani kiriting:'))\n",
    "A>B\n",
    "C=A//B\n",
    "print('A kesmada B kesma:,',C)\n"
   ]
  },
  {
   "cell_type": "code",
   "execution_count": 21,
   "id": "d6a3afc9",
   "metadata": {},
   "outputs": [
    {
     "name": "stdout",
     "output_type": "stream",
     "text": [
      "A kesmani kiriting:5687\n",
      "B kesmani kiriting:145\n",
      "A kesmada B kesma joylashgan: 39 A kesmada B kesma joylashmagan: 32\n"
     ]
    }
   ],
   "source": [
    "#5\n",
    "A=int(input('A kesmani kiriting:'))\n",
    "B=int(input('B kesmani kiriting:'))\n",
    "A>B\n",
    "C=A//B\n",
    "D=A%B\n",
    "print('A kesmada B kesma joylashgan:',C, 'A kesmada B kesma joylashmagan:',D)"
   ]
  },
  {
   "cell_type": "code",
   "execution_count": 22,
   "id": "4e4ced40",
   "metadata": {},
   "outputs": [
    {
     "name": "stdout",
     "output_type": "stream",
     "text": [
      "ikki xonali son kiriting:45\n",
      "o'nlik xonasidagi son: 4 birlik xonasidagi son: 5\n"
     ]
    }
   ],
   "source": [
    "#6\n",
    "A=int(input('ikki xonali son kiriting:'))\n",
    "O=A//10\n",
    "B=A%10\n",
    "print(\"o'nlik xonasidagi son:\",O, 'birlik xonasidagi son:',B)"
   ]
  },
  {
   "cell_type": "code",
   "execution_count": 23,
   "id": "d432131a",
   "metadata": {},
   "outputs": [
    {
     "name": "stdout",
     "output_type": "stream",
     "text": [
      "ikki xonali son kiriting:45\n",
      "ikki xonali sonning raqamlar yigindisi= 9\n"
     ]
    }
   ],
   "source": [
    "#7\n",
    "A=int(input('ikki xonali son kiriting:'))\n",
    "O=A//10\n",
    "B=A%10\n",
    "S=O+B\n",
    "print('ikki xonali sonning raqamlar yigindisi=',S)"
   ]
  },
  {
   "cell_type": "code",
   "execution_count": 25,
   "id": "79586a3b",
   "metadata": {},
   "outputs": [
    {
     "name": "stdout",
     "output_type": "stream",
     "text": [
      "ikki xonali son kiriting:45\n",
      "ikki xonali son raqamlar almashsa= 5 4\n"
     ]
    }
   ],
   "source": [
    "#8\n",
    "A=int(input('ikki xonali son kiriting:'))\n",
    "O=A//10\n",
    "B=A%10\n",
    "O=O+B\n",
    "B=O-B\n",
    "O=O-B\n",
    "print('ikki xonali son raqamlar almashsa=',O,B)"
   ]
  },
  {
   "cell_type": "code",
   "execution_count": 26,
   "id": "aa1a0bf6",
   "metadata": {},
   "outputs": [
    {
     "name": "stdout",
     "output_type": "stream",
     "text": [
      "Uch xonali son kiriting:456\n",
      "Uch xonali sonning yuzlik xonasidagi son= 4\n"
     ]
    }
   ],
   "source": [
    "#9\n",
    "A=int(input('Uch xonali son kiriting:'))\n",
    "Y=A//100\n",
    "print('Uch xonali sonning yuzlik xonasidagi son=',Y)"
   ]
  },
  {
   "cell_type": "code",
   "execution_count": 27,
   "id": "b30f154a",
   "metadata": {},
   "outputs": [
    {
     "name": "stdout",
     "output_type": "stream",
     "text": [
      "Uch xonali son kiriting:856\n",
      "Uch honali sonning birlik xonasidagi son= 6\n",
      "Uch xonali sonning o`nlik xonasidagi son= 5\n"
     ]
    }
   ],
   "source": [
    "#10\n",
    "A=int(input('Uch xonali son kiriting:'))\n",
    "B=A%100%10\n",
    "O=A%100//10\n",
    "print('Uch honali sonning birlik xonasidagi son=',B)\n",
    "print('Uch xonali sonning o`nlik xonasidagi son=',O)\n"
   ]
  },
  {
   "cell_type": "code",
   "execution_count": 28,
   "id": "326e55de",
   "metadata": {},
   "outputs": [
    {
     "name": "stdout",
     "output_type": "stream",
     "text": [
      "Uch xonali son kiriting:487\n",
      "Raqamlar yindisi= 19\n"
     ]
    }
   ],
   "source": [
    "#11\n",
    "A=int(input('Uch xonali son kiriting:'))\n",
    "Y=A//100\n",
    "O=A%100//10\n",
    "B=A%100%10\n",
    "print('Raqamlar yindisi=',Y+O+B)"
   ]
  },
  {
   "cell_type": "code",
   "execution_count": 55,
   "id": "392e2f25",
   "metadata": {},
   "outputs": [
    {
     "name": "stdout",
     "output_type": "stream",
     "text": [
      "Uch xonali son kiriting:123\n",
      "Uch xonali son: 321\n"
     ]
    }
   ],
   "source": [
    "#12\n",
    "A=int(input('Uch xonali son kiriting:'))\n",
    "yuzlik=A//100\n",
    "onlik=A%100//10\n",
    "birlik=A%10\n",
    "print('Uch xonali son:',birlik*100+onlik*10+yuzlik*1)"
   ]
  },
  {
   "cell_type": "code",
   "execution_count": 56,
   "id": "6e51bdd4",
   "metadata": {},
   "outputs": [
    {
     "name": "stdout",
     "output_type": "stream",
     "text": [
      "Uch xonali son kiriting:123\n",
      "uch xonali son: 312\n"
     ]
    }
   ],
   "source": [
    "#13\n",
    "A=int(input('Uch xonali son kiriting:'))\n",
    "chap=A%100%10\n",
    "orta=A%100//10\n",
    "ong=A//100\n",
    "print('uch xonali son:',chap*100+ong*10+orta*1)\n"
   ]
  },
  {
   "cell_type": "code",
   "execution_count": 57,
   "id": "c2e7f1a8",
   "metadata": {},
   "outputs": [
    {
     "name": "stdout",
     "output_type": "stream",
     "text": [
      "Uch xonali son kiriting:123\n",
      "231\n"
     ]
    }
   ],
   "source": [
    "#14\n",
    "a=int(input('Uch xonali son kiriting:'))\n",
    "ong=A//100\n",
    "orta=A%100//10\n",
    "chap=A%100%10\n",
    "print(orta*100+chap*10+ong*1)"
   ]
  },
  {
   "cell_type": "code",
   "execution_count": 58,
   "id": "dabb21e5",
   "metadata": {},
   "outputs": [
    {
     "name": "stdout",
     "output_type": "stream",
     "text": [
      "Uch honali son kiriting:123\n",
      "213\n"
     ]
    }
   ],
   "source": [
    "#15\n",
    "A=int(input('Uch honali son kiriting:'))\n",
    "yuzlik=A//100\n",
    "onlik=A%100//10\n",
    "birlik=A%100%10\n",
    "print(onlik*100+yuzlik*10+birlik*1)"
   ]
  },
  {
   "cell_type": "code",
   "execution_count": 59,
   "id": "44647053",
   "metadata": {},
   "outputs": [
    {
     "name": "stdout",
     "output_type": "stream",
     "text": [
      "Uch xonali son kiriting:123\n",
      "132\n"
     ]
    }
   ],
   "source": [
    "#16\n",
    "A=int(input('Uch xonali son kiriting:'))\n",
    "yuzlik=A//100\n",
    "onlik=A%100//10\n",
    "birlik=A%100%10\n",
    "print(yuzlik*100+birlik*10+onlik*1)"
   ]
  },
  {
   "cell_type": "code",
   "execution_count": 50,
   "id": "da992d8a",
   "metadata": {},
   "outputs": [
    {
     "name": "stdout",
     "output_type": "stream",
     "text": [
      "999 dan katta son kiriting:1569\n",
      "Yuzlik xonasidagi son= 5\n",
      "Yuzlik xonasidagi son= 5\n"
     ]
    }
   ],
   "source": [
    "#17\n",
    "A=int(input('999 dan katta son kiriting:'))\n",
    "Y=A%1000//100\n",
    "print('Yuzlik xonasidagi son=' ,Y)\n",
    "Y=A//100%10\n",
    "print('Yuzlik xonasidagi son=' ,Y)"
   ]
  },
  {
   "cell_type": "code",
   "execution_count": 45,
   "id": "e181fc7f",
   "metadata": {},
   "outputs": [
    {
     "name": "stdout",
     "output_type": "stream",
     "text": [
      "999 dan katta son kiriting:1569\n",
      "Mingliklar xonasidagi son 1\n",
      "Mingliklar xonasidagi son 1\n"
     ]
    }
   ],
   "source": [
    "#18\n",
    "A=int(input('999 dan katta son kiriting:'))\n",
    "M=A//1000\n",
    "print('Mingliklar xonasidagi son', M)\n",
    "M=A%10000//1000\n",
    "print('Mingliklar xonasidagi son', M)"
   ]
  },
  {
   "cell_type": "code",
   "execution_count": 67,
   "id": "66b6012a",
   "metadata": {},
   "outputs": [
    {
     "name": "stdout",
     "output_type": "stream",
     "text": [
      "Kun boyi o`tgan sekundni kiriting:3600\n",
      "Kun boyi o`tgan minut= 60\n"
     ]
    }
   ],
   "source": [
    "#19\n",
    "N=int(input('Kun boyi o`tgan sekundni kiriting:'))\n",
    "M=N//60\n",
    "print('Kun boyi o`tgan minut=',M)"
   ]
  },
  {
   "cell_type": "code",
   "execution_count": 64,
   "id": "a28049f0",
   "metadata": {},
   "outputs": [
    {
     "name": "stdout",
     "output_type": "stream",
     "text": [
      "Kun bo`yi o`tgan sekundni kiriting: 3600\n",
      "Kun bo`yi o`tgan soat= 1\n"
     ]
    }
   ],
   "source": [
    "#20\n",
    "N=int(input('Kun bo`yi o`tgan sekundni kiriting: '))\n",
    "S=N//3600\n",
    "print('Kun bo`yi o`tgan soat=',S)"
   ]
  },
  {
   "cell_type": "code",
   "execution_count": 75,
   "id": "0f4a999d",
   "metadata": {},
   "outputs": [
    {
     "name": "stdout",
     "output_type": "stream",
     "text": [
      "kun boyi o`tgan sekun:3661\n",
      "61 minut 1 sekund\n"
     ]
    }
   ],
   "source": [
    "#21\n",
    "N=int(input('kun boyi o`tgan sekun:'))\n",
    "M=N//60\n",
    "S=N%60\n",
    "print(M,'minut',S,'sekund')"
   ]
  },
  {
   "cell_type": "code",
   "execution_count": 6,
   "id": "884e7208",
   "metadata": {},
   "outputs": [
    {
     "name": "stdout",
     "output_type": "stream",
     "text": [
      "kun bo`yi o`tgan sekund:3600\n",
      "1 soat 0 sekund\n"
     ]
    }
   ],
   "source": [
    "#22\n",
    "N=int(input('kun bo`yi o`tgan sekund:'))\n",
    "soat=N//3600\n",
    "sekund=N%3600\n",
    "print(soat,'soat',sekund,'sekund')"
   ]
  },
  {
   "cell_type": "code",
   "execution_count": 13,
   "id": "01e5da4d",
   "metadata": {},
   "outputs": [
    {
     "name": "stdout",
     "output_type": "stream",
     "text": [
      "kun bo`yi o`tgan sekund:3661\n",
      "1 soat 1 minut 1 sekund\n"
     ]
    }
   ],
   "source": [
    "#23\n",
    "N=int(input('kun bo`yi o`tgan sekund:'))\n",
    "soat=N//3600\n",
    "minut=N%3600//60\n",
    "sekund=N%60\n",
    "print(soat,'soat',minut,'minut',sekund,'sekund')"
   ]
  },
  {
   "cell_type": "code",
   "execution_count": 10,
   "id": "6761b96a",
   "metadata": {},
   "outputs": [
    {
     "name": "stdout",
     "output_type": "stream",
     "text": [
      "1-365 kunlar:7\n",
      "kun: 0\n"
     ]
    }
   ],
   "source": [
    "#24\n",
    "\n",
    "# 0-yakshanba,1-dushanba,2-seshanba,3-chorshanba,4-payshanba,5-juma,6-shanba\n",
    "K=int(input('1-365 kunlar:'))\n",
    "kun=K%7\n",
    "print('kun:',kun)"
   ]
  },
  {
   "cell_type": "code",
   "execution_count": 103,
   "id": "15b8c8db",
   "metadata": {},
   "outputs": [
    {
     "name": "stdout",
     "output_type": "stream",
     "text": [
      "1-365 kunlar:11\n",
      "kun: 0\n"
     ]
    }
   ],
   "source": [
    "#25\n",
    "# 0-yakshanba,1-dushanba,2-seshanba,3-chorshanba,4-payshanba,5-juma,6-shanba\n",
    "K=int(input('1-365 kunlar:'))\n",
    "kun=(K+6)%7\n",
    "print('hafta kuni:',kun)"
   ]
  },
  {
   "cell_type": "code",
   "execution_count": 107,
   "id": "cfebe37e",
   "metadata": {},
   "outputs": [
    {
     "name": "stdout",
     "output_type": "stream",
     "text": [
      "1-365 kunlar:10\n",
      "hafta kuni: 4\n"
     ]
    }
   ],
   "source": [
    "#26\n",
    "# 1-dushanba, 2-seshanba, 3-chorshanba, 4-payshanba, 5-juma, 6-shanba,7-yakshanba\n",
    "K=int(input('1-365 kunlar:'))\n",
    "kun=(K+1)%7\n",
    "print('hafta kuni:',kun)"
   ]
  },
  {
   "cell_type": "code",
   "execution_count": 1,
   "id": "833756bd",
   "metadata": {},
   "outputs": [
    {
     "name": "stdout",
     "output_type": "stream",
     "text": [
      "1-365 kunlar:651\n",
      "hafta kuni: 5\n"
     ]
    }
   ],
   "source": [
    "#27\n",
    "\n",
    "# 1-dushanba, 2-seshanba, 3-chorshanba, 4-payshanba, 5-juma, 6-shanba,7-yakshanba\n",
    "K=int(input('1-365 kunlar:'))\n",
    "kun=(K+5)%7\n",
    "print('hafta kuni:',kun)"
   ]
  },
  {
   "cell_type": "code",
   "execution_count": 20,
   "id": "ac34e1e2",
   "metadata": {},
   "outputs": [
    {
     "name": "stdout",
     "output_type": "stream",
     "text": [
      "1-365 kunlar:22\n",
      "1-7 hafta kunlari:1\n",
      "hafta kuni: 1\n"
     ]
    }
   ],
   "source": [
    "#28\n",
    "\n",
    "\n",
    "K=int(input('1-365 kunlar:'))\n",
    "N=int(input('1-7 hafta kunlari:'))\n",
    "kun= ((K+N-2)%7)+1\n",
    "print('hafta kuni:',kun)\n"
   ]
  },
  {
   "cell_type": "code",
   "execution_count": 5,
   "id": "683bbee1",
   "metadata": {},
   "outputs": [
    {
     "name": "stdout",
     "output_type": "stream",
     "text": [
      "A butun son:6\n",
      "B butun son:5\n",
      "C butun son:2\n",
      "joylashgan kvadratlar soni: 6\n",
      "joylashmagan qismi yuzasi: 6\n"
     ]
    }
   ],
   "source": [
    "#29\n",
    "A=int(input('A butun son:'))\n",
    "B=int(input('B butun son:'))\n",
    "C=int(input('C butun son:'))\n",
    "S=(A//C)*(B//C)\n",
    "S2=A*B-S*C*C\n",
    "print('joylashgan kvadratlar soni:',S)\n",
    "print('joylashmagan qismi yuzasi:',S2)"
   ]
  },
  {
   "cell_type": "code",
   "execution_count": 142,
   "id": "eb755b78",
   "metadata": {},
   "outputs": [
    {
     "name": "stdout",
     "output_type": "stream",
     "text": [
      "yilni kiriting:2020\n",
      "21 -yuz yillik\n"
     ]
    }
   ],
   "source": [
    "#30\n",
    "yil=int(input('yilni kiriting:'))\n",
    "asr=yil//95\n",
    "print(asr,'-yuz yillik')"
   ]
  }
 ],
 "metadata": {
  "kernelspec": {
   "display_name": "Python 3 (ipykernel)",
   "language": "python",
   "name": "python3"
  },
  "language_info": {
   "codemirror_mode": {
    "name": "ipython",
    "version": 3
   },
   "file_extension": ".py",
   "mimetype": "text/x-python",
   "name": "python",
   "nbconvert_exporter": "python",
   "pygments_lexer": "ipython3",
   "version": "3.9.8"
  }
 },
 "nbformat": 4,
 "nbformat_minor": 5
}
